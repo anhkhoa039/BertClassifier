{
 "cells": [
  {
   "cell_type": "code",
   "execution_count": 1,
   "metadata": {},
   "outputs": [
    {
     "name": "stderr",
     "output_type": "stream",
     "text": [
      "d:\\Projects\\BertClassifier\\venv\\lib\\site-packages\\tqdm\\auto.py:22: TqdmWarning: IProgress not found. Please update jupyter and ipywidgets. See https://ipywidgets.readthedocs.io/en/stable/user_install.html\n",
      "  from .autonotebook import tqdm as notebook_tqdm\n"
     ]
    },
    {
     "name": "stdout",
     "output_type": "stream",
     "text": [
      "The keys found in this json are:  dict_keys(['oos_val', 'val', 'train', 'oos_test', 'test', 'oos_train'])\n"
     ]
    }
   ],
   "source": [
    "from scr.utils import read_CLINC150_file, get_label_set, turn_single_label_to_multilabels\n",
    "\n",
    "dataDict = read_CLINC150_file('data/CLINC150/data_full.json')\n",
    "trainList = dataDict['train']\n",
    "valList = dataDict['val']\n",
    "testList = dataDict['test']\n",
    "labelSet = get_label_set(trainList, valList, testList)\n",
    "\n",
    "turn_single_label_to_multilabels(trainList, testList, valList)"
   ]
  },
  {
   "cell_type": "code",
   "execution_count": 2,
   "metadata": {},
   "outputs": [],
   "source": [
    "from scr.dataset import SentenceLabelDataset\n",
    "\n",
    "trainSet = SentenceLabelDataset(trainList, labelSet)"
   ]
  },
  {
   "cell_type": "code",
   "execution_count": 3,
   "metadata": {},
   "outputs": [],
   "source": [
    "from torch.utils.data import DataLoader\n",
    "from scr.dataset import collate_dynamic_padding\n",
    "\n",
    "dataloader = DataLoader(trainSet, \n",
    "                        batch_size = 8, \n",
    "                        num_workers = 2, \n",
    "                        shuffle = True,\n",
    "                        collate_fn = collate_dynamic_padding,\n",
    "                        pin_memory = True)"
   ]
  },
  {
   "cell_type": "code",
   "execution_count": 7,
   "metadata": {},
   "outputs": [
    {
     "name": "stdout",
     "output_type": "stream",
     "text": [
      "(tensor([0.7500, 0.3333, 0.0000]), 0.4444444477558136)\n"
     ]
    }
   ],
   "source": [
    "from scr.evaluate import MultiLabelEvaluator\n",
    "import torch\n",
    "\n",
    "\n",
    "FUNCTION_MAP = {'accuracy' : MultiLabelEvaluator.get_accuracy,\n",
    "                'precision' : MultiLabelEvaluator.get_precision,\n",
    "                'recall' : MultiLabelEvaluator.get_recall,\n",
    "                'f1' : MultiLabelEvaluator.get_F1}\n",
    "\n",
    "filter = ['Accuracy']\n",
    "\n",
    "targets = [[1,0,1], [1,0,0], [1,1,0],[1,1,1]]\n",
    "preds = [[1,0,0], [0,1,0], [1,1,0], [1,0,0]]\n",
    "targets = torch.as_tensor(targets)\n",
    "preds = torch.as_tensor(preds)\n",
    "\n",
    "\n",
    "funs = [FUNCTION_MAP[fil.lower()] for fil in filter]\n",
    "evaluator = MultiLabelEvaluator()\n",
    "evaluator.add_batch(probs = preds, targets=targets)\n",
    "for fun in funs:\n",
    "    print(fun(evaluator))\n"
   ]
  },
  {
   "cell_type": "code",
   "execution_count": 4,
   "metadata": {},
   "outputs": [
    {
     "name": "stdout",
     "output_type": "stream",
     "text": [
      "tensor([[1.0000, 0.8808, 0.2689],\n",
      "        [0.7311, 0.9820, 0.9975]])\n"
     ]
    }
   ],
   "source": [
    "from torch.nn import Sigmoid\n",
    "import torch\n",
    "\n",
    "temp = [[15,2,-1],[1,4,6]]\n",
    "temp = torch.as_tensor(temp)\n",
    "\n",
    "sigmoid = Sigmoid()\n",
    "print(sigmoid(temp))"
   ]
  },
  {
   "cell_type": "code",
   "execution_count": 3,
   "metadata": {},
   "outputs": [
    {
     "data": {
      "text/plain": [
       "tensor([[1, 0, 0],\n",
       "        [0, 0, 0],\n",
       "        [1, 1, 0],\n",
       "        [1, 1, 0]], dtype=torch.int32)"
      ]
     },
     "execution_count": 3,
     "metadata": {},
     "output_type": "execute_result"
    }
   ],
   "source": [
    "evaluator.truePositive"
   ]
  },
  {
   "cell_type": "code",
   "execution_count": 5,
   "metadata": {},
   "outputs": [
    {
     "data": {
      "text/plain": [
       "'accuracy'"
      ]
     },
     "execution_count": 5,
     "metadata": {},
     "output_type": "execute_result"
    }
   ],
   "source": [
    "'Accuracy'.lower()"
   ]
  },
  {
   "cell_type": "code",
   "execution_count": 11,
   "metadata": {},
   "outputs": [
    {
     "data": {
      "text/plain": [
       "tensor([[0, 0, 0],\n",
       "        [0, 1, 0],\n",
       "        [0, 0, 0],\n",
       "        [0, 0, 0]])"
      ]
     },
     "execution_count": 11,
     "metadata": {},
     "output_type": "execute_result"
    }
   ],
   "source": [
    "torch.where(evaluator.truePositive==0, preds, 0)"
   ]
  },
  {
   "cell_type": "code",
   "execution_count": 4,
   "metadata": {},
   "outputs": [
    {
     "data": {
      "text/plain": [
       "tensor([[1, 0, 1],\n",
       "        [1, 1, 0],\n",
       "        [1, 1, 0],\n",
       "        [1, 1, 1]], dtype=torch.int32)"
      ]
     },
     "execution_count": 4,
     "metadata": {},
     "output_type": "execute_result"
    }
   ],
   "source": [
    "evaluator.positive"
   ]
  },
  {
   "cell_type": "code",
   "execution_count": 46,
   "metadata": {},
   "outputs": [
    {
     "name": "stdout",
     "output_type": "stream",
     "text": [
      "tensor([[1, 1, 0],\n",
      "        [0, 0, 1],\n",
      "        [0, 0, 1],\n",
      "        [0, 0, 1]], dtype=torch.int32)\n",
      "tensor([0, 1, 1, 1], dtype=torch.int32)\n"
     ]
    }
   ],
   "source": [
    "print(preds)\n",
    "print(preds[:,2])\n"
   ]
  }
 ],
 "metadata": {
  "kernelspec": {
   "display_name": "Python 3.9.13 ('venv': venv)",
   "language": "python",
   "name": "python3"
  },
  "language_info": {
   "codemirror_mode": {
    "name": "ipython",
    "version": 3
   },
   "file_extension": ".py",
   "mimetype": "text/x-python",
   "name": "python",
   "nbconvert_exporter": "python",
   "pygments_lexer": "ipython3",
   "version": "3.9.13"
  },
  "orig_nbformat": 4,
  "vscode": {
   "interpreter": {
    "hash": "fd54f67d8d318272b679dbff45f14b42d3d41845c2356629fe78855dd2b49e7c"
   }
  }
 },
 "nbformat": 4,
 "nbformat_minor": 2
}
