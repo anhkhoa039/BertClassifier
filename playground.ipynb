{
 "cells": [
  {
   "cell_type": "code",
   "execution_count": 1,
   "metadata": {},
   "outputs": [
    {
     "name": "stderr",
     "output_type": "stream",
     "text": [
      "d:\\Projects\\BertClassifier\\venv\\lib\\site-packages\\tqdm\\auto.py:22: TqdmWarning: IProgress not found. Please update jupyter and ipywidgets. See https://ipywidgets.readthedocs.io/en/stable/user_install.html\n",
      "  from .autonotebook import tqdm as notebook_tqdm\n"
     ]
    },
    {
     "name": "stdout",
     "output_type": "stream",
     "text": [
      "The keys found in this json are:  dict_keys(['oos_val', 'val', 'train', 'oos_test', 'test', 'oos_train'])\n"
     ]
    }
   ],
   "source": [
    "from scr.dataset import get_data_from_json, get_label_set\n",
    "\n",
    "dataDict = get_data_from_json('data/data_full.json')\n",
    "trainList = dataDict['train']\n",
    "valList = dataDict['val']\n",
    "testList = dataDict['test']\n",
    "labelSet = get_label_set(trainList, valList, testList)"
   ]
  },
  {
   "cell_type": "code",
   "execution_count": 2,
   "metadata": {},
   "outputs": [],
   "source": [
    "from scr.dataset import SentenceLabelDataset\n",
    "\n",
    "trainSet = SentenceLabelDataset(trainList, labelSet)"
   ]
  },
  {
   "cell_type": "code",
   "execution_count": 3,
   "metadata": {},
   "outputs": [],
   "source": [
    "from torch.utils.data import DataLoader\n",
    "from scr.dataset import collate_dynamic_padding\n",
    "\n",
    "dataloader = DataLoader(trainSet, \n",
    "                        batch_size = 8, \n",
    "                        num_workers = 2, \n",
    "                        shuffle = True,\n",
    "                        collate_fn = collate_dynamic_padding,\n",
    "                        pin_memory = True)"
   ]
  }
 ],
 "metadata": {
  "kernelspec": {
   "display_name": "Python 3.9.13 ('venv': venv)",
   "language": "python",
   "name": "python3"
  },
  "language_info": {
   "codemirror_mode": {
    "name": "ipython",
    "version": 3
   },
   "file_extension": ".py",
   "mimetype": "text/x-python",
   "name": "python",
   "nbconvert_exporter": "python",
   "pygments_lexer": "ipython3",
   "version": "3.9.13"
  },
  "orig_nbformat": 4,
  "vscode": {
   "interpreter": {
    "hash": "fd54f67d8d318272b679dbff45f14b42d3d41845c2356629fe78855dd2b49e7c"
   }
  }
 },
 "nbformat": 4,
 "nbformat_minor": 2
}
