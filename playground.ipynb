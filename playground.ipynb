{
 "cells": [
  {
   "cell_type": "code",
   "execution_count": 1,
   "metadata": {},
   "outputs": [
    {
     "name": "stderr",
     "output_type": "stream",
     "text": [
      "d:\\Projects\\BertClassifier\\venv\\lib\\site-packages\\tqdm\\auto.py:22: TqdmWarning: IProgress not found. Please update jupyter and ipywidgets. See https://ipywidgets.readthedocs.io/en/stable/user_install.html\n",
      "  from .autonotebook import tqdm as notebook_tqdm\n"
     ]
    },
    {
     "name": "stdout",
     "output_type": "stream",
     "text": [
      "The keys found in this json are:  dict_keys(['oos_val', 'val', 'train', 'oos_test', 'test', 'oos_train'])\n"
     ]
    }
   ],
   "source": [
    "from scr.dataset import get_data_from_json, get_label_set\n",
    "\n",
    "dataDict = get_data_from_json('data/data_full.json')\n",
    "trainList = dataDict['train']\n",
    "valList = dataDict['val']\n",
    "testList = dataDict['test']\n",
    "labelSet = get_label_set(trainList, valList, testList)"
   ]
  },
  {
   "cell_type": "code",
   "execution_count": 2,
   "metadata": {},
   "outputs": [],
   "source": [
    "from scr.dataset import SentenceLabelDataset\n",
    "\n",
    "trainSet = SentenceLabelDataset(trainList, labelSet)"
   ]
  },
  {
   "cell_type": "code",
   "execution_count": 3,
   "metadata": {},
   "outputs": [],
   "source": [
    "from torch.utils.data import DataLoader\n",
    "from scr.dataset import collate_dynamic_padding\n",
    "\n",
    "dataloader = DataLoader(trainSet, \n",
    "                        batch_size = 8, \n",
    "                        num_workers = 2, \n",
    "                        shuffle = True,\n",
    "                        collate_fn = collate_dynamic_padding,\n",
    "                        pin_memory = True)"
   ]
  },
  {
   "cell_type": "code",
   "execution_count": 2,
   "metadata": {},
   "outputs": [
    {
     "name": "stdout",
     "output_type": "stream",
     "text": [
      "Target matrix is: \n",
      " tensor([[1, 0, 1],\n",
      "        [1, 0, 0],\n",
      "        [1, 1, 0],\n",
      "        [1, 1, 1]])\n",
      "Prediction matrix is: \n",
      " tensor([[1, 0, 0],\n",
      "        [0, 1, 0],\n",
      "        [1, 1, 0],\n",
      "        [1, 1, 0]])\n",
      "Accuracies of each class is:  tensor([0.7500, 0.6667, 0.0000])\n",
      "Average Accuracy:  0.5555555820465088\n",
      "Precision of each class is:  tensor([1.0000, 0.6667,    nan])\n",
      "Average Accuracy:  tensor(0.8333)\n",
      "Recall of each class is:  tensor([0.7500, 1.0000, 0.0000])\n",
      "Average Recall:  tensor(0.6250)\n"
     ]
    }
   ],
   "source": [
    "from scr.evaluate import MultiLabelEvaluator\n",
    "import torch\n",
    "\n",
    "targets = [[1,0,1], [1,0,0], [1,1,0],[1,1,1]]\n",
    "preds = [[1,0,0], [0,1,0], [1,1,0], [1,1,0]]\n",
    "targets = torch.as_tensor(targets)\n",
    "preds = torch.as_tensor(preds)\n",
    "\n",
    "evaluator = MultiLabelEvaluator(probs = preds, targets=targets)\n",
    "\n",
    "print('Target matrix is: \\n',targets)\n",
    "\n",
    "print('Prediction matrix is: \\n',preds)\n",
    "\n",
    "accuracies, avgAcc = evaluator.get_accuracy()\n",
    "print('Accuracies of each class is: ',accuracies)\n",
    "print('Average Accuracy: ',avgAcc)\n",
    "\n",
    "precisions, avgPrecision = evaluator.get_precision()\n",
    "print('Precision of each class is: ',precisions)\n",
    "print('Average Accuracy: ',avgPrecision)\n",
    "\n",
    "recalls, avgRecall = evaluator.get_recall()\n",
    "print('Recall of each class is: ',recalls)\n",
    "print('Average Recall: ',avgRecall)"
   ]
  },
  {
   "cell_type": "code",
   "execution_count": 3,
   "metadata": {},
   "outputs": [
    {
     "data": {
      "text/plain": [
       "tensor([[1, 0, 0],\n",
       "        [0, 0, 0],\n",
       "        [1, 1, 0],\n",
       "        [1, 1, 0]], dtype=torch.int32)"
      ]
     },
     "execution_count": 3,
     "metadata": {},
     "output_type": "execute_result"
    }
   ],
   "source": [
    "evaluator.truePositive"
   ]
  },
  {
   "cell_type": "code",
   "execution_count": 11,
   "metadata": {},
   "outputs": [
    {
     "data": {
      "text/plain": [
       "tensor([[0, 0, 0],\n",
       "        [0, 1, 0],\n",
       "        [0, 0, 0],\n",
       "        [0, 0, 0]])"
      ]
     },
     "execution_count": 11,
     "metadata": {},
     "output_type": "execute_result"
    }
   ],
   "source": [
    "torch.where(evaluator.truePositive==0, preds, 0)"
   ]
  },
  {
   "cell_type": "code",
   "execution_count": 4,
   "metadata": {},
   "outputs": [
    {
     "data": {
      "text/plain": [
       "tensor([[1, 0, 1],\n",
       "        [1, 1, 0],\n",
       "        [1, 1, 0],\n",
       "        [1, 1, 1]], dtype=torch.int32)"
      ]
     },
     "execution_count": 4,
     "metadata": {},
     "output_type": "execute_result"
    }
   ],
   "source": [
    "evaluator.positive"
   ]
  },
  {
   "cell_type": "code",
   "execution_count": 46,
   "metadata": {},
   "outputs": [
    {
     "name": "stdout",
     "output_type": "stream",
     "text": [
      "tensor([[1, 1, 0],\n",
      "        [0, 0, 1],\n",
      "        [0, 0, 1],\n",
      "        [0, 0, 1]], dtype=torch.int32)\n",
      "tensor([0, 1, 1, 1], dtype=torch.int32)\n"
     ]
    }
   ],
   "source": [
    "print(preds)\n",
    "print(preds[:,2])\n"
   ]
  }
 ],
 "metadata": {
  "kernelspec": {
   "display_name": "Python 3.9.13 ('venv': venv)",
   "language": "python",
   "name": "python3"
  },
  "language_info": {
   "codemirror_mode": {
    "name": "ipython",
    "version": 3
   },
   "file_extension": ".py",
   "mimetype": "text/x-python",
   "name": "python",
   "nbconvert_exporter": "python",
   "pygments_lexer": "ipython3",
   "version": "3.9.13"
  },
  "orig_nbformat": 4,
  "vscode": {
   "interpreter": {
    "hash": "fd54f67d8d318272b679dbff45f14b42d3d41845c2356629fe78855dd2b49e7c"
   }
  }
 },
 "nbformat": 4,
 "nbformat_minor": 2
}
