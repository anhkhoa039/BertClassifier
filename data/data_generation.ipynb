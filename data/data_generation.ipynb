{
 "cells": [
  {
   "cell_type": "code",
   "execution_count": 1,
   "metadata": {},
   "outputs": [
    {
     "data": {
      "text/plain": [
       "'Suppose you are a person looking for a job, you think relevant information for your job search are: work location, your skillset, job titles, your education level, salary and whether you work fulltime or part time. Write 5 scenario describing your circumstances.'"
      ]
     },
     "execution_count": 1,
     "metadata": {},
     "output_type": "execute_result"
    }
   ],
   "source": [
    "import json\n",
    "with open('scenario.json', 'r') as f:\n",
    "    data = json.load(f)\n",
    "data['prompt to ask for scenario']['Example']"
   ]
  },
  {
   "cell_type": "code",
   "execution_count": 2,
   "metadata": {},
   "outputs": [
    {
     "data": {
      "text/plain": [
       "'Suppose you have a device with an Siri-like app that acts as a recruiter and can retrieve appropriate job openings. Given the scenario below that is related to your job search, write 20 ways of asking the intelligent device to retrieve appropriate job offers. [Your scenario]'"
      ]
     },
     "execution_count": 2,
     "metadata": {},
     "output_type": "execute_result"
    }
   ],
   "source": [
    "data['prompt']"
   ]
  },
  {
   "cell_type": "code",
   "execution_count": 10,
   "metadata": {},
   "outputs": [
    {
     "data": {
      "text/plain": [
       "['location', 'position', 'skillset', 'salary', 'education', 'employment_type']"
      ]
     },
     "execution_count": 10,
     "metadata": {},
     "output_type": "execute_result"
    }
   ],
   "source": [
    "data['labels']"
   ]
  },
  {
   "cell_type": "code",
   "execution_count": 21,
   "metadata": {},
   "outputs": [],
   "source": [
    "texts = [\n",
    "    'You are looking for a full-time software engineering position in the San Francisco Bay Area.',\n",
    "    'You are looking for a part-time retail sales associate position in the New York City metropolitan area.',\n",
    "    'You are looking for a full-time management consulting position in the Chicago metropolitan area.',\n",
    "    'You are looking for a part-time nursing position in a hospital in the Greater Los Angeles Area.',\n",
    "    'You are looking for a full-time legal associate position in the Greater Boston Area.',\n",
    "    'You are looking for a part-time chef position in a restaurant in the Greater Miami Area.',\n",
    "    'You are looking for a full-time cashier position in a grocery store in the Greater Seattle Area.',\n",
    "    'You are looking for a part-time marketing coordinator position in the Greater Berlin Area.',\n",
    "    'You are looking for a full-time financial analyst position in the Greater Tokyo Area.',\n",
    "    'You are looking for a part-time news reporter position in the Greater Sydney Area.'\n",
    "]\n",
    "\n",
    "label = [['location', 'position', 'employment_type']] * len(texts)"
   ]
  },
  {
   "cell_type": "code",
   "execution_count": 22,
   "metadata": {},
   "outputs": [],
   "source": [
    "import json\n",
    "with open('scenario.json', 'r') as f:\n",
    "    data = json.load(f)\n",
    "\n",
    "with open('scenario.json', 'w') as file:\n",
    "    data['scenario'].extend(list(zip(texts, label)))\n",
    "    json.dump(data, file, indent=4)"
   ]
  },
  {
   "cell_type": "code",
   "execution_count": 7,
   "metadata": {},
   "outputs": [],
   "source": [
    "for _, labels in data['scenario']:\n",
    "    for label in labels:\n",
    "        label = label.replace('postion', 'position')"
   ]
  },
  {
   "cell_type": "code",
   "execution_count": 9,
   "metadata": {},
   "outputs": [],
   "source": [
    "for  _, labels in data['scenario']:\n",
    "    if 'postion' in labels:\n",
    "        for label in labels:\n",
    "            label = label.replace('postion', 'position')\n",
    "    "
   ]
  },
  {
   "cell_type": "code",
   "execution_count": 15,
   "metadata": {},
   "outputs": [],
   "source": [
    "for  _, labels in data['scenario']:\n",
    "    if 'postion' in labels:\n",
    "        index = labels.index('postion')\n",
    "        labels[index] = 'position'\n",
    "        print(labels)"
   ]
  },
  {
   "cell_type": "code",
   "execution_count": 16,
   "metadata": {},
   "outputs": [],
   "source": [
    "import json\n",
    "with open('scenario.json', 'r') as f:\n",
    "    data = json.load(f)\n",
    "\n",
    "for _, labels in data['scenario']:\n",
    "    if 'postion' in labels:\n",
    "        index = labels.index('postion')\n",
    "        labels[index] = 'position'\n",
    "\n",
    "with open('scenario.json', 'w') as file:\n",
    "    json.dump(data, file, indent=4)"
   ]
  }
 ],
 "metadata": {
  "kernelspec": {
   "display_name": "venv",
   "language": "python",
   "name": "python3"
  },
  "language_info": {
   "codemirror_mode": {
    "name": "ipython",
    "version": 3
   },
   "file_extension": ".py",
   "mimetype": "text/x-python",
   "name": "python",
   "nbconvert_exporter": "python",
   "pygments_lexer": "ipython3",
   "version": "3.9.13"
  },
  "orig_nbformat": 4
 },
 "nbformat": 4,
 "nbformat_minor": 2
}
