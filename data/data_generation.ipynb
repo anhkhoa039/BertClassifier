{
 "cells": [
  {
   "cell_type": "code",
   "execution_count": 1,
   "metadata": {},
   "outputs": [
    {
     "data": {
      "text/plain": [
       "'Suppose you are a person looking for a job, you think relevant information for your job search are: work location, your skillset, job titles, your education level, salary and whether you work fulltime or part time. Write 5 scenario describing your circumstances.'"
      ]
     },
     "execution_count": 1,
     "metadata": {},
     "output_type": "execute_result"
    }
   ],
   "source": [
    "import json\n",
    "with open('scenario.json', 'r') as f:\n",
    "    data = json.load(f)\n",
    "data['prompt to ask for scenario']['Example']"
   ]
  },
  {
   "cell_type": "code",
   "execution_count": 2,
   "metadata": {},
   "outputs": [
    {
     "data": {
      "text/plain": [
       "'Suppose you have a device with an Siri-like app that acts as a recruiter and can retrieve appropriate job openings. Given the scenario below that is related to your job search, write 20 ways of asking the intelligent device to retrieve appropriate job offers. [Your scenario]'"
      ]
     },
     "execution_count": 2,
     "metadata": {},
     "output_type": "execute_result"
    }
   ],
   "source": [
    "data['prompt']"
   ]
  },
  {
   "cell_type": "code",
   "execution_count": 10,
   "metadata": {},
   "outputs": [
    {
     "data": {
      "text/plain": [
       "['location', 'position', 'skillset', 'salary', 'education', 'employment_type']"
      ]
     },
     "execution_count": 10,
     "metadata": {},
     "output_type": "execute_result"
    }
   ],
   "source": [
    "data['labels']"
   ]
  },
  {
   "cell_type": "code",
   "execution_count": 1,
   "metadata": {},
   "outputs": [],
   "source": [
    "texts = [\n",
    "    'You are a recent college graduate with a degree in computer science and are looking for a job as a software engineer in San Francisco.',\n",
    "    'You are a high school graduate with a few years of experience working in retail and are looking for a job as a sales associate in New York City.',\n",
    "    'You are a stay-at-home parent with a high school diploma and are looking for a part-time job as a receptionist in your local area.',\n",
    "    'You are a recent immigrant with a degree in finance and are looking for a job as an accountant in Chicago.',\n",
    "    'You are a recent retiree with a degree in education and are looking for a part-time job as a tutor in your local area.',\n",
    "    'You are a recent college graduate with a degree in marketing and are looking for a job as a marketing coordinator in Los Angeles.',\n",
    "    'You are a high school graduate with a few years of experience working in food service and are looking for a job as a server in Miami.',\n",
    "    'You are a stay-at-home parent with a high school diploma and are looking for a part-time job as a cashier in your local area.',\n",
    "    'You are a recent retiree with a degree in nursing and are looking for a part-time job as a home health aide in your local area.',\n",
    "    'You are a recent immigrant with a degree in engineering and are looking for a job as a mechanical engineer in Houston.',\n",
    "    'You are a recent college graduate with a degree in journalism and are looking for a job as a reporter in Washington D.C.',\n",
    "    'You are a high school graduate with a few years of experience working in customer service and are looking for a job as a call center representative in Chicago.',\n",
    "    'You are a stay-at-home parent with a high school diploma and are looking for a part-time job as a dog walker in your local area.',\n",
    "    'You are a recent immigrant with a degree in computer science and are looking for a job as a software developer in San Diego.',\n",
    "    'You are a recent retiree with a degree in business and are looking for a part-time job as a consultant in your local area.',\n",
    "    'You are a recent college graduate with a degree in psychology and are looking for a job as a research assistant in Boston.',\n",
    "    'You are a high school graduate with a few years of experience working in construction and are looking for a job as a carpenter in Seattle.',\n",
    "    'You are a stay-at-home parent with a high school diploma and are looking for a part-time job as a nanny in your local area.',\n",
    "    'You are a recent immigrant with a degree in biology and are looking for a job as a lab technician in New Orleans.',\n",
    "    'You are a recent retiree with a degree in art and are looking for a part-time job as a museum docent in your local area.'\n",
    "]\n",
    "\n",
    "label = [['location', 'position', 'education']] * len(texts)"
   ]
  },
  {
   "cell_type": "code",
   "execution_count": 6,
   "metadata": {},
   "outputs": [],
   "source": [
    "import json\n",
    "with open('scenario.json', 'r') as f:\n",
    "    data = json.load(f)\n",
    "\n",
    "with open('scenario.json', 'w') as file:\n",
    "    data['scenario'].extend(list(zip(texts, label)))\n",
    "    json.dump(data, file, indent=4)"
   ]
  }
 ],
 "metadata": {
  "kernelspec": {
   "display_name": "venv",
   "language": "python",
   "name": "python3"
  },
  "language_info": {
   "codemirror_mode": {
    "name": "ipython",
    "version": 3
   },
   "file_extension": ".py",
   "mimetype": "text/x-python",
   "name": "python",
   "nbconvert_exporter": "python",
   "pygments_lexer": "ipython3",
   "version": "3.9.13"
  },
  "orig_nbformat": 4
 },
 "nbformat": 4,
 "nbformat_minor": 2
}
