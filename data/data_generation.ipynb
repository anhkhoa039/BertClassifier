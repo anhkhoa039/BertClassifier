{
 "cells": [
  {
   "cell_type": "code",
   "execution_count": 9,
   "metadata": {},
   "outputs": [
    {
     "data": {
      "text/plain": [
       "'Suppose you are a person looking for a job, you think relevant information for your job search are: work location, your skillset, job titles, your education level, salary and whether you work fulltime or part time. Write 5 scenario describing your circumstances.'"
      ]
     },
     "execution_count": 9,
     "metadata": {},
     "output_type": "execute_result"
    }
   ],
   "source": [
    "import json\n",
    "with open('scenario.json', 'r') as f:\n",
    "    data = json.load(f)\n",
    "data['prompt to ask for scenario']['Example']"
   ]
  },
  {
   "cell_type": "code",
   "execution_count": 10,
   "metadata": {},
   "outputs": [
    {
     "data": {
      "text/plain": [
       "['location', 'position', 'skillset', 'salary', 'education', 'employment_type']"
      ]
     },
     "execution_count": 10,
     "metadata": {},
     "output_type": "execute_result"
    }
   ],
   "source": [
    "data['labels']"
   ]
  },
  {
   "cell_type": "code",
   "execution_count": 1,
   "metadata": {},
   "outputs": [],
   "source": [
    "texts = [\n",
    "    'You are looking for a full-time job as a software engineer.',\n",
    "    'You are looking for a part-time job as a customer service representative.',\n",
    "    'You are looking for a part-time job as a retail sales associate.',\n",
    "    'You are looking for a full-time job as a marketing manager.',\n",
    "    'You are looking for a full-time job as a civil engineer.',\n",
    "    'You are looking for a part-time job as a delivery driver.',\n",
    "    'You are looking for a part-time job as a cashier.',\n",
    "    'You are looking for a full-time job as a project manager.',\n",
    "    'You are looking for a full-time job as a data analyst.',\n",
    "    'You are looking for a part-time job as a tutor.',\n",
    "    'You are looking for a full-time job as a graphic designer.',\n",
    "    'You are looking for a full-time job as a human resources manager.',\n",
    "    'You are looking for a part-time job as a receptionist.',\n",
    "    'You are looking for a full-time job as a financial analyst.'\n",
    "]\n",
    "\n",
    "label = [['employment_type', 'postion']] * len(texts)"
   ]
  },
  {
   "cell_type": "code",
   "execution_count": 6,
   "metadata": {},
   "outputs": [],
   "source": [
    "import json\n",
    "with open('scenario.json', 'r') as f:\n",
    "    data = json.load(f)\n",
    "\n",
    "with open('scenario.json', 'w') as file:\n",
    "    data['scenario'].extend(list(zip(texts, label)))\n",
    "    json.dump(data, file, indent=4)"
   ]
  }
 ],
 "metadata": {
  "kernelspec": {
   "display_name": "venv",
   "language": "python",
   "name": "python3"
  },
  "language_info": {
   "codemirror_mode": {
    "name": "ipython",
    "version": 3
   },
   "file_extension": ".py",
   "mimetype": "text/x-python",
   "name": "python",
   "nbconvert_exporter": "python",
   "pygments_lexer": "ipython3",
   "version": "3.9.13"
  },
  "orig_nbformat": 4
 },
 "nbformat": 4,
 "nbformat_minor": 2
}
