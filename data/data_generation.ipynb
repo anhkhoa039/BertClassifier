{
 "cells": [
  {
   "cell_type": "code",
   "execution_count": 28,
   "metadata": {},
   "outputs": [
    {
     "data": {
      "text/plain": [
       "'Suppose you are a person looking for a job, you think relevant information for your job search are: work location, your skillset, job titles, your education level, salary and whether you work fulltime or part time. Write 5 scenario describing your circumstances.'"
      ]
     },
     "execution_count": 28,
     "metadata": {},
     "output_type": "execute_result"
    }
   ],
   "source": [
    "import json\n",
    "with open('scenario.json', 'r') as f:\n",
    "    data = json.load(f)\n",
    "data['prompt to ask for scenario']['Example']"
   ]
  },
  {
   "cell_type": "code",
   "execution_count": 2,
   "metadata": {},
   "outputs": [
    {
     "data": {
      "text/plain": [
       "'Suppose you have a device with an Siri-like app that acts as a recruiter and can retrieve appropriate job openings. Given the scenario below that is related to your job search, write 20 ways of asking the intelligent device to retrieve appropriate job offers. [Your scenario]'"
      ]
     },
     "execution_count": 2,
     "metadata": {},
     "output_type": "execute_result"
    }
   ],
   "source": [
    "data['prompt']"
   ]
  },
  {
   "cell_type": "code",
   "execution_count": 10,
   "metadata": {},
   "outputs": [
    {
     "data": {
      "text/plain": [
       "['location', 'position', 'skillset', 'salary', 'education', 'employment_type']"
      ]
     },
     "execution_count": 10,
     "metadata": {},
     "output_type": "execute_result"
    }
   ],
   "source": [
    "data['labels']"
   ]
  },
  {
   "cell_type": "code",
   "execution_count": 40,
   "metadata": {},
   "outputs": [],
   "source": [
    "texts = [\n",
    "    'You are looking for a job in London.',\n",
    "    'You are looking for a job in Paris.',\n",
    "    'You are looking for a job in Berlin.',\n",
    "    'You are looking for a job in Tokyo.',\n",
    "    'You are looking for a job in Sydney.',\n",
    "    'You are looking for a job in Toronto.',\n",
    "    'You are looking for a job in Vancouver.',\n",
    "    'You are looking for a job in Melbourne.',\n",
    "    'You are looking for a job in Montreal.',\n",
    "    'You are looking for a job in Auckland.',\n",
    "    'You are looking for a job in Amsterdam.',\n",
    "    'You are looking for a job in Dublin.',\n",
    "    'You are looking for a job in Madrid.',\n",
    "    'You are looking for a job in Barcelona.',\n",
    "    'You are looking for a job in Rome.',\n",
    "    'You are looking for a job in Milan.',\n",
    "    'You are looking for a job in Munich.',\n",
    "    'You are looking for a job in Charlotte.',\n",
    "    'You are looking for a job in San Jose.',\n",
    "    'You are looking for a job in Denver.'\n",
    "]\n",
    "\n",
    "label = [['location']] * len(texts)"
   ]
  },
  {
   "cell_type": "code",
   "execution_count": 41,
   "metadata": {},
   "outputs": [],
   "source": [
    "import json\n",
    "with open('scenario.json', 'r') as f:\n",
    "    data = json.load(f)\n",
    "\n",
    "with open('scenario.json', 'w') as file:\n",
    "    data['scenario'].extend(list(zip(texts, label)))\n",
    "    json.dump(data, file, indent=4)"
   ]
  },
  {
   "cell_type": "code",
   "execution_count": 7,
   "metadata": {},
   "outputs": [],
   "source": [
    "for _, labels in data['scenario']:\n",
    "    for label in labels:\n",
    "        label = label.replace('postion', 'position')"
   ]
  },
  {
   "cell_type": "code",
   "execution_count": 9,
   "metadata": {},
   "outputs": [],
   "source": [
    "for  _, labels in data['scenario']:\n",
    "    if 'postion' in labels:\n",
    "        for label in labels:\n",
    "            label = label.replace('postion', 'position')\n",
    "    "
   ]
  },
  {
   "cell_type": "code",
   "execution_count": 15,
   "metadata": {},
   "outputs": [],
   "source": [
    "for  _, labels in data['scenario']:\n",
    "    if 'postion' in labels:\n",
    "        index = labels.index('postion')\n",
    "        labels[index] = 'position'\n",
    "        print(labels)"
   ]
  },
  {
   "cell_type": "code",
   "execution_count": 16,
   "metadata": {},
   "outputs": [],
   "source": [
    "import json\n",
    "with open('scenario.json', 'r') as f:\n",
    "    data = json.load(f)\n",
    "\n",
    "for _, labels in data['scenario']:\n",
    "    if 'postion' in labels:\n",
    "        index = labels.index('postion')\n",
    "        labels[index] = 'position'\n",
    "\n",
    "with open('scenario.json', 'w') as file:\n",
    "    json.dump(data, file, indent=4)"
   ]
  }
 ],
 "metadata": {
  "kernelspec": {
   "display_name": "venv",
   "language": "python",
   "name": "python3"
  },
  "language_info": {
   "codemirror_mode": {
    "name": "ipython",
    "version": 3
   },
   "file_extension": ".py",
   "mimetype": "text/x-python",
   "name": "python",
   "nbconvert_exporter": "python",
   "pygments_lexer": "ipython3",
   "version": "3.9.13"
  },
  "orig_nbformat": 4
 },
 "nbformat": 4,
 "nbformat_minor": 2
}
