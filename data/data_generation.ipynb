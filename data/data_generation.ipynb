{
 "cells": [
  {
   "cell_type": "code",
   "execution_count": 25,
   "metadata": {},
   "outputs": [],
   "source": [
    "import json\n",
    "\n",
    "f = open('scenario.json')\n",
    "\n",
    "data = json.load(f)"
   ]
  },
  {
   "cell_type": "code",
   "execution_count": 27,
   "metadata": {},
   "outputs": [
    {
     "data": {
      "text/plain": [
       "'Suppose you are a person looking for a job, you think relevant information for your job search are: work location, your skillset, job titles, your education level, salary and whether you work fulltime or part time. Write 5 scenario describing your circumstances.'"
      ]
     },
     "execution_count": 27,
     "metadata": {},
     "output_type": "execute_result"
    }
   ],
   "source": [
    "data['prompt to ask for scenario']['Example']"
   ]
  },
  {
   "cell_type": "code",
   "execution_count": 28,
   "metadata": {},
   "outputs": [
    {
     "data": {
      "text/plain": [
       "['location', 'position', 'skillset', 'salary', 'education', 'employment_type']"
      ]
     },
     "execution_count": 28,
     "metadata": {},
     "output_type": "execute_result"
    }
   ],
   "source": [
    "data['labels']"
   ]
  },
  {
   "cell_type": "code",
   "execution_count": 31,
   "metadata": {},
   "outputs": [],
   "source": [
    "texts = [\n",
    "    'You are a software engineer with experience in Java and are looking for software engineering positions.',\n",
    "    'You are a data analyst with experience in SQL and Python and are looking for data analyst positions.',\n",
    "    'You are a project manager with experience in Agile methodologies and are looking for project management positions.',\n",
    "    'You are a graphic designer with experience in Adobe Creative Suite and are looking for graphic design positions.',\n",
    "    'You are a sales representative with experience in B2B sales and are looking for sales positions.',\n",
    "    'You are a customer service representative with experience in call centers and are looking for customer service positions.',\n",
    "    'You are a marketing specialist with experience in social media marketing and are looking for marketing positions.',\n",
    "    'You are a human resources specialist with experience in recruiting and are looking for human resources positions.',\n",
    "    'You are a teacher with experience in teaching English as a second language and are looking for teaching positions.',\n",
    "    'You are a software developer with experience in Python and are looking for software development positions.'\n",
    "]\n",
    "label = [['skillset', 'postion']] * len(texts)"
   ]
  },
  {
   "cell_type": "code",
   "execution_count": 32,
   "metadata": {},
   "outputs": [
    {
     "data": {
      "text/plain": [
       "[['skillset', 'postion'],\n",
       " ['skillset', 'postion'],\n",
       " ['skillset', 'postion'],\n",
       " ['skillset', 'postion'],\n",
       " ['skillset', 'postion'],\n",
       " ['skillset', 'postion'],\n",
       " ['skillset', 'postion'],\n",
       " ['skillset', 'postion'],\n",
       " ['skillset', 'postion'],\n",
       " ['skillset', 'postion']]"
      ]
     },
     "execution_count": 32,
     "metadata": {},
     "output_type": "execute_result"
    }
   ],
   "source": [
    "label"
   ]
  },
  {
   "cell_type": "code",
   "execution_count": 35,
   "metadata": {},
   "outputs": [],
   "source": [
    "data['scenario'].extend(list(zip(texts, label)))"
   ]
  },
  {
   "cell_type": "code",
   "execution_count": 37,
   "metadata": {},
   "outputs": [],
   "source": [
    "with open('scenario.json', 'w') as file:\n",
    "    json.dump(data, file, indent=4)"
   ]
  }
 ],
 "metadata": {
  "kernelspec": {
   "display_name": "venv",
   "language": "python",
   "name": "python3"
  },
  "language_info": {
   "codemirror_mode": {
    "name": "ipython",
    "version": 3
   },
   "file_extension": ".py",
   "mimetype": "text/x-python",
   "name": "python",
   "nbconvert_exporter": "python",
   "pygments_lexer": "ipython3",
   "version": "3.9.13"
  },
  "orig_nbformat": 4
 },
 "nbformat": 4,
 "nbformat_minor": 2
}
