{
 "cells": [
  {
   "cell_type": "code",
   "execution_count": 28,
   "metadata": {},
   "outputs": [
    {
     "data": {
      "text/plain": [
       "'Suppose you are a person looking for a job, you think relevant information for your job search are: work location, your skillset, job titles, your education level, salary and whether you work fulltime or part time. Write 5 scenario describing your circumstances.'"
      ]
     },
     "execution_count": 28,
     "metadata": {},
     "output_type": "execute_result"
    }
   ],
   "source": [
    "import json\n",
    "with open('scenario.json', 'r') as f:\n",
    "    data = json.load(f)\n",
    "data['prompt to ask for scenario']['Example']"
   ]
  },
  {
   "cell_type": "code",
   "execution_count": 2,
   "metadata": {},
   "outputs": [
    {
     "data": {
      "text/plain": [
       "'Suppose you have a device with an Siri-like app that acts as a recruiter and can retrieve appropriate job openings. Given the scenario below that is related to your job search, write 20 ways of asking the intelligent device to retrieve appropriate job offers. [Your scenario]'"
      ]
     },
     "execution_count": 2,
     "metadata": {},
     "output_type": "execute_result"
    }
   ],
   "source": [
    "data['prompt']"
   ]
  },
  {
   "cell_type": "code",
   "execution_count": 10,
   "metadata": {},
   "outputs": [
    {
     "data": {
      "text/plain": [
       "['location', 'position', 'skillset', 'salary', 'education', 'employment_type']"
      ]
     },
     "execution_count": 10,
     "metadata": {},
     "output_type": "execute_result"
    }
   ],
   "source": [
    "data['labels']"
   ]
  },
  {
   "cell_type": "code",
   "execution_count": 48,
   "metadata": {},
   "outputs": [],
   "source": [
    "texts = [\n",
    "    'You are looking for a full-time job as a software engineer with a salary of $100,000 per year.',\n",
    "    'You are looking for a part-time job as a customer service representative with a salary of €20,000 per year.',\n",
    "    'You are looking for a full-time job as a marketing manager with a salary of £60,000 per year.',\n",
    "    'You are looking for a part-time job as a sales representative with a salary of ¥5,000,000 per year.',\n",
    "    'You are looking for a full-time job as a human resources manager with a salary of $80,000 per year.',\n",
    "    'You are looking for a part-time job as a project manager with a salary of €30,000 per year.',\n",
    "    'You are looking for a full-time job as a financial analyst with a salary of £50,000 per year.',\n",
    "    'You are looking for a part-time job as a graphic designer with a salary of ¥4,000,000 per year.',\n",
    "    'You are looking for a full-time job as a web developer with a salary of $90,000 per year.',\n",
    "    'You are looking for a part-time job as a social media manager with a salary of €25,000 per year.',\n",
    "    'You are looking for a full-time job as a content writer with a salary of £40,000 per year.',\n",
    "    'You are looking for a part-time job as a business analyst with a salary of ¥6,000,000 per year.',\n",
    "    'You are looking for a full-time job as a supply chain manager with a salary of $70,000 per year.',\n",
    "    'You are looking for a part-time job as a logistics coordinator with a salary of €15,000 per year.',\n",
    "    'You are looking for a full-time job as a network administrator with a salary of £45,000 per year.'\n",
    "    'You are looking for a part-time job as a systems analyst with a salary of ¥3,000,000 per year.',\n",
    "    'You are looking for a full-time job as a database administrator with a salary of $60,000 per year.',\n",
    "    'You are looking for a part-time job as a cybersecurity analyst with a salary of €35,000 per year.',\n",
    "    'You are looking for a full-time job as a data analyst with a salary of £30,000 per year.',\n",
    "    'You are looking for a part-time job as a marketing manager with a salary of ¥7,000,000 per year.'\n",
    "]\n",
    "\n",
    "label = [['employment_type', 'position', 'salary']] * len(texts)"
   ]
  },
  {
   "cell_type": "code",
   "execution_count": 49,
   "metadata": {},
   "outputs": [],
   "source": [
    "import json\n",
    "with open('scenario.json', 'r') as f:\n",
    "    data = json.load(f)\n",
    "\n",
    "with open('scenario.json', 'w') as file:\n",
    "    data['scenario'].extend(list(zip(texts, label)))\n",
    "    json.dump(data, file, indent=4)"
   ]
  },
  {
   "cell_type": "code",
   "execution_count": 7,
   "metadata": {},
   "outputs": [],
   "source": [
    "for _, labels in data['scenario']:\n",
    "    for label in labels:\n",
    "        label = label.replace('postion', 'position')"
   ]
  },
  {
   "cell_type": "code",
   "execution_count": 9,
   "metadata": {},
   "outputs": [],
   "source": [
    "for  _, labels in data['scenario']:\n",
    "    if 'postion' in labels:\n",
    "        for label in labels:\n",
    "            label = label.replace('postion', 'position')\n",
    "    "
   ]
  },
  {
   "cell_type": "code",
   "execution_count": 15,
   "metadata": {},
   "outputs": [],
   "source": [
    "for  _, labels in data['scenario']:\n",
    "    if 'postion' in labels:\n",
    "        index = labels.index('postion')\n",
    "        labels[index] = 'position'\n",
    "        print(labels)"
   ]
  },
  {
   "cell_type": "code",
   "execution_count": 16,
   "metadata": {},
   "outputs": [],
   "source": [
    "import json\n",
    "with open('scenario.json', 'r') as f:\n",
    "    data = json.load(f)\n",
    "\n",
    "for _, labels in data['scenario']:\n",
    "    if 'postion' in labels:\n",
    "        index = labels.index('postion')\n",
    "        labels[index] = 'position'\n",
    "\n",
    "with open('scenario.json', 'w') as file:\n",
    "    json.dump(data, file, indent=4)"
   ]
  }
 ],
 "metadata": {
  "kernelspec": {
   "display_name": "venv",
   "language": "python",
   "name": "python3"
  },
  "language_info": {
   "codemirror_mode": {
    "name": "ipython",
    "version": 3
   },
   "file_extension": ".py",
   "mimetype": "text/x-python",
   "name": "python",
   "nbconvert_exporter": "python",
   "pygments_lexer": "ipython3",
   "version": "3.9.13"
  },
  "orig_nbformat": 4
 },
 "nbformat": 4,
 "nbformat_minor": 2
}
